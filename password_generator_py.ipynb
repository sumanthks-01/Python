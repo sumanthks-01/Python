{
  "nbformat": 4,
  "nbformat_minor": 0,
  "metadata": {
    "colab": {
      "provenance": [],
      "authorship_tag": "ABX9TyOXdx7+Ffwyda0hXyDbaw66",
      "include_colab_link": true
    },
    "kernelspec": {
      "name": "python3",
      "display_name": "Python 3"
    },
    "language_info": {
      "name": "python"
    }
  },
  "cells": [
    {
      "cell_type": "markdown",
      "metadata": {
        "id": "view-in-github",
        "colab_type": "text"
      },
      "source": [
        "<a href=\"https://colab.research.google.com/github/sumanthks-01/Python/blob/main/password_generator_py.ipynb\" target=\"_parent\"><img src=\"https://colab.research.google.com/assets/colab-badge.svg\" alt=\"Open In Colab\"/></a>"
      ]
    },
    {
      "source": [
        "import random\n",
        "import string\n",
        "\n",
        "def generate_password(length=12):\n",
        "\n",
        "  #To select the characters.\n",
        "  characters = string.ascii_letters + string.digits + string.punctuation\n",
        "\n",
        "  # To generate the password.\n",
        "  password = ''.join(random.choice(characters) for i in range(length))\n",
        "\n",
        "  return password\n",
        "\n",
        "# To get the desired password length from the user.\n",
        "length = int(input(\"Enter the desired password length: \"))\n",
        "\n",
        "# Generateing a password.\n",
        "password = generate_password(length)\n",
        "\n",
        "# Printing the password and its length.\n",
        "print(\"Generated Password:\", password)\n",
        "print(\"Password Length:\", len(password))"
      ],
      "cell_type": "code",
      "metadata": {
        "colab": {
          "base_uri": "https://localhost:8080/"
        },
        "id": "A1KG9fqJNmeQ",
        "outputId": "989d1cc2-e562-46d0-ccf4-c39ef47afd02"
      },
      "execution_count": 1,
      "outputs": [
        {
          "output_type": "stream",
          "name": "stdout",
          "text": [
            "Enter the desired password length: 22\n",
            "Generated Password: &W\\ba.xqFnI;zf2tp|I'_(\n",
            "Password Length: 22\n"
          ]
        }
      ]
    }
  ]
}